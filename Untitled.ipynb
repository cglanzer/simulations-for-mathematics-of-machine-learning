{
 "cells": [
  {
   "cell_type": "markdown",
   "id": "337e9bd1-64b8-4e5f-bc52-195e88d2cb69",
   "metadata": {},
   "source": [
    "## Simulations for \"Mathematics of Machine Learning\"\n",
    "\n",
    "This repository contains the Jupyter notebooks which I've written for the lecture [**\"401-2684-00L Mathematics of Machine Learning\"**](http://www.vvz.ethz.ch/Vorlesungsverzeichnis/lerneinheit.view?lerneinheitId=152806&semkez=2021S&lang=de) held at ETH Zürich by [Prof. Dr. Afonso Bandeira](https://people.math.ethz.ch/~abandeira/index.html) in Spring 2021.\n",
    "\n",
    "\n",
    "### Instructions on how to run the code\n",
    "\n",
    "**Cloning the repository:** The easiest way is to clone the entire repository and to run the notebooks locally.\n",
    "\n",
    "**Using Google Colab:** If you have a Google / Gmail account, you can click on the following link to directly open and run the Jupyter notebooks: [Click here!](https://colab.research.google.com/github/cglanzer/simulations-for-mathematics-of-machine-learning.)\n",
    "After opening the page, login with your Google account and click on “Connect” on the top-right corner of the page. Now, you can execute the code cells by clicking on the small play button next to the snippets.\n",
    "\n",
    "**Using Binder (no account needed):** Navigate to [Binder](https://mybinder.org/). Next, copy-paste the following URL next to “GitHub” and click “Launch”: https://github.com/cglanzer/simulations-for-mathematics-of-machine-learning. It will take a while for Binder to download the repository. As soon as this is completed, you can select one of the notebooks and run and play around with the code."
   ]
  },
  {
   "cell_type": "code",
   "execution_count": null,
   "id": "b67a50d4-7282-47dd-b8c5-1fd43825c396",
   "metadata": {},
   "outputs": [],
   "source": []
  }
 ],
 "metadata": {
  "kernelspec": {
   "display_name": "Python 3",
   "language": "python",
   "name": "python3"
  },
  "language_info": {
   "codemirror_mode": {
    "name": "ipython",
    "version": 3
   },
   "file_extension": ".py",
   "mimetype": "text/x-python",
   "name": "python",
   "nbconvert_exporter": "python",
   "pygments_lexer": "ipython3",
   "version": "3.9.5"
  }
 },
 "nbformat": 4,
 "nbformat_minor": 5
}
